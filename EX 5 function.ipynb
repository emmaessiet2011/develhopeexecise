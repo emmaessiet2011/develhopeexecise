{
 "cells": [
  {
   "cell_type": "code",
   "execution_count": 32,
   "id": "314c6732",
   "metadata": {},
   "outputs": [],
   "source": [
    "import random"
   ]
  },
  {
   "cell_type": "code",
   "execution_count": 28,
   "id": "3ddda4b9",
   "metadata": {},
   "outputs": [],
   "source": [
    "#ex5 function\n",
    "def random_list_summer():\n",
    "    slice = []\n",
    "    s = 0\n",
    "    while s <= 15:\n",
    "        n = random.randint(-100, 100)\n",
    "        slice.append(n)\n",
    "        s += 1\n",
    "        continue\n",
    "    return print(f' the random numbers are : {slice}\\n and it is {s} random values sum to: {sum(slice)}')\n",
    "    "
   ]
  },
  {
   "cell_type": "code",
   "execution_count": 31,
   "id": "9ff908da",
   "metadata": {},
   "outputs": [
    {
     "name": "stdout",
     "output_type": "stream",
     "text": [
      " the random numbers are : [75, 79, -54, -81, 50, 58, -63, 52, -72, 6, -65, -55, 32, -92, -36, 75]\n",
      " and it is 16 random values sum to: -91\n"
     ]
    }
   ],
   "source": [
    "random_list_summer()"
   ]
  }
 ],
 "metadata": {
  "kernelspec": {
   "display_name": "Python 3 (ipykernel)",
   "language": "python",
   "name": "python3"
  },
  "language_info": {
   "codemirror_mode": {
    "name": "ipython",
    "version": 3
   },
   "file_extension": ".py",
   "mimetype": "text/x-python",
   "name": "python",
   "nbconvert_exporter": "python",
   "pygments_lexer": "ipython3",
   "version": "3.9.13"
  }
 },
 "nbformat": 4,
 "nbformat_minor": 5
}
