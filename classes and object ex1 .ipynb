{
 "cells": [
  {
   "cell_type": "code",
   "execution_count": 380,
   "id": "7226c3ba",
   "metadata": {},
   "outputs": [],
   "source": [
    "#Ex1 C&O\n",
    "\n",
    "class Animal:\n",
    "    def __init__ (self, animals, territory, sound, ears = 2, legs = 4, cat = True):\n",
    "        self.animals = animals\n",
    "        self.sound = sound,\n",
    "        self.territory = territory,\n",
    "        self.ears = ears,\n",
    "        self.legs = legs\n",
    "        self.cat = cat\n",
    "    def get_animal(self, n):\n",
    "        print(\"Animal object was created\")\n",
    "        if type(n) == str:\n",
    "            print(n)\n",
    "        else:\n",
    "            print(\"gone\")\n",
    "    def count_legs(self):\n",
    "        print(\"the number of legs is\")\n",
    "    def return_legs(self):\n",
    "        return self.legs\n",
    "    def number_of_legs(self):\n",
    "        print(f'{self.legs}')\n",
    "    "
   ]
  },
  {
   "cell_type": "code",
   "execution_count": 388,
   "id": "529d5a08",
   "metadata": {},
   "outputs": [],
   "source": [
    "cat_family = Animal([\"lion\", \"tiger\", \"jaguar\", \"cheetah\"],\n",
    "                    [\"savanna\", \"grassland\", \"scrubland\", \"openforest\"],\n",
    "                    [\"roar\", \"snarl\", \"growl\", \"gargles\"]\n",
    "                   )"
   ]
  },
  {
   "cell_type": "code",
   "execution_count": 366,
   "id": "4993fc78",
   "metadata": {},
   "outputs": [
    {
     "data": {
      "text/plain": [
       "{'animals': ['lion', 'tiger', 'jaguar', 'cheetah'],\n",
       " 'sound': (['roar', 'snarl', 'growl', 'gargles'],),\n",
       " 'territory': (['savanna', 'grassland', 'scrubland', 'openforest'],),\n",
       " 'ears': (2,),\n",
       " 'legs': 4,\n",
       " 'cat': True}"
      ]
     },
     "execution_count": 366,
     "metadata": {},
     "output_type": "execute_result"
    }
   ],
   "source": [
    "cat_family.__dict__"
   ]
  },
  {
   "cell_type": "code",
   "execution_count": 367,
   "id": "7269592a",
   "metadata": {},
   "outputs": [
    {
     "name": "stdout",
     "output_type": "stream",
     "text": [
      "Animal object was created\n",
      "Running started\n"
     ]
    }
   ],
   "source": [
    "cat_family.get_animal(\"Running started\")"
   ]
  }
 ],
 "metadata": {
  "kernelspec": {
   "display_name": "Python 3 (ipykernel)",
   "language": "python",
   "name": "python3"
  },
  "language_info": {
   "codemirror_mode": {
    "name": "ipython",
    "version": 3
   },
   "file_extension": ".py",
   "mimetype": "text/x-python",
   "name": "python",
   "nbconvert_exporter": "python",
   "pygments_lexer": "ipython3",
   "version": "3.9.13"
  }
 },
 "nbformat": 4,
 "nbformat_minor": 5
}
