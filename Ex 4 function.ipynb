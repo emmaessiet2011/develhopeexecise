{
 "cells": [
  {
   "cell_type": "code",
   "execution_count": 74,
   "id": "0a04af3b",
   "metadata": {},
   "outputs": [],
   "source": [
    "def greet_family(*args):\n",
    "    for i in range(len(args)):\n",
    "        for e in args[i]: \n",
    "            print(f' hello {e}!')\n",
    "           "
   ]
  },
  {
   "cell_type": "code",
   "execution_count": 75,
   "id": "0b6cbb23",
   "metadata": {},
   "outputs": [
    {
     "name": "stdout",
     "output_type": "stream",
     "text": [
      " hello John Doe!\n",
      " hello Tristram Mcbride!\n",
      " hello Baldwin Preston!\n",
      " hello Wally Collins!\n"
     ]
    }
   ],
   "source": [
    "greet_family([\"John Doe\", \"Tristram Mcbride\", \"Baldwin Preston\", \"Wally Collins\"])"
   ]
  }
 ],
 "metadata": {
  "kernelspec": {
   "display_name": "Python 3 (ipykernel)",
   "language": "python",
   "name": "python3"
  },
  "language_info": {
   "codemirror_mode": {
    "name": "ipython",
    "version": 3
   },
   "file_extension": ".py",
   "mimetype": "text/x-python",
   "name": "python",
   "nbconvert_exporter": "python",
   "pygments_lexer": "ipython3",
   "version": "3.9.13"
  }
 },
 "nbformat": 4,
 "nbformat_minor": 5
}
