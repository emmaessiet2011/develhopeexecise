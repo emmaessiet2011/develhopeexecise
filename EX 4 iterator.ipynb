{
 "cells": [
  {
   "cell_type": "markdown",
   "id": "894e991c",
   "metadata": {},
   "source": [
    "###### EX 4 iterator"
   ]
  },
  {
   "cell_type": "code",
   "execution_count": 76,
   "id": "0d106d7d",
   "metadata": {},
   "outputs": [
    {
     "name": "stdout",
     "output_type": "stream",
     "text": [
      "lion\n",
      "monkey\n",
      "dog\n",
      "fish\n",
      "lion\n",
      "monkey\n",
      "dog\n",
      "fish\n",
      "dog\n",
      "monkey\n",
      "fish\n",
      "lion\n",
      "lion, lives on land\n",
      "monkey, lives on land\n",
      "dog, lives on land\n"
     ]
    }
   ],
   "source": [
    "list1 = [\"lion\", \"monkey\", \"dog\",\"fish\"]\n",
    "tuple1 = (\"lion\", \"monkey\", \"dog\",\"fish\")\n",
    "set1 = {\"lion\", \"monkey\", \"dog\",\"fish\"}\n",
    "dict1 = {\"lion\":\"land\", \"monkey\":\"land\", \"dog\":\"land\",\"fish\":\"water\"}\n",
    "\n",
    "for i in list1:\n",
    "    print(i)\n",
    "for i in tuple1:\n",
    "    print(i)\n",
    "for i in set1:\n",
    "    print(i)\n",
    "for i in dict1:\n",
    "    if dict1[i] == \"land\":\n",
    "        print(f\"{i}, lives on land\")"
   ]
  }
 ],
 "metadata": {
  "kernelspec": {
   "display_name": "Python 3 (ipykernel)",
   "language": "python",
   "name": "python3"
  },
  "language_info": {
   "codemirror_mode": {
    "name": "ipython",
    "version": 3
   },
   "file_extension": ".py",
   "mimetype": "text/x-python",
   "name": "python",
   "nbconvert_exporter": "python",
   "pygments_lexer": "ipython3",
   "version": "3.9.13"
  }
 },
 "nbformat": 4,
 "nbformat_minor": 5
}
