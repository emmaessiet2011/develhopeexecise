{
 "cells": [
  {
   "cell_type": "code",
   "execution_count": 15,
   "id": "03712139",
   "metadata": {},
   "outputs": [],
   "source": [
    "#Ex1 C&O\n",
    "\n",
    "class Animal:\n",
    "    def __init__ (self, animals, territory, sound, ears = 2, legs = 4, cat = True):\n",
    "        self.animals = animals\n",
    "        self.sound = sound,\n",
    "        self.territory = territory,\n",
    "        self.ears = ears,\n",
    "        self.legs = legs\n",
    "        self.cat = cat\n",
    "    def get_animal(self, n):\n",
    "        print(\"Animal object was created\")\n",
    "        if type(n) == str:\n",
    "            print(n)\n",
    "        else:\n",
    "            print(\"gone\")\n",
    "    def count_legs(self):\n",
    "        print(\"the number of legs is\")\n",
    "    def return_legs(self):\n",
    "        return self.legs\n",
    "    def number_of_legs(self):\n",
    "        print(f'{self.legs}')\n",
    "\n",
    "    "
   ]
  },
  {
   "cell_type": "code",
   "execution_count": null,
   "id": "53ac6660",
   "metadata": {},
   "outputs": [],
   "source": [
    "cat_family = Animal([\"lion\", \"tiger\", \"jaguar\", \"cheetah\"],\n",
    "                    [\"savanna\", \"grassland\", \"scrubland\", \"openforest\"],\n",
    "                    [\"roar\", \"snarl\", \"growl\", \"gargles\"]\n",
    "                   )"
   ]
  },
  {
   "cell_type": "code",
   "execution_count": 12,
   "id": "5300de75",
   "metadata": {},
   "outputs": [],
   "source": [
    "#EX 4\n",
    "#Let's inherit Dog class from Animal add name(private) attribute to Dog class and then bark method to print woof woof\n",
    "#print name_of_dog make it bark count the legs\n",
    "class Dog(Animal):\n",
    "    def __init__ (self, animals, territory, sound, name, leg, ears = 2, legs = 4, cat = True):\n",
    "            Animal.__init__ (self, animals, territory, sound, ears = 2, legs = 4, cat = True)\n",
    "            self._name = name\n",
    "            self.leg = leg\n",
    "            \n",
    "    def dog_leg_Count(self, s):\n",
    "        print(s)\n",
    "        print(f'{self._name} bark like : {s}!!!')\n",
    "        self.leg = 0\n",
    "        while self.leg <= 4:\n",
    "            self.leg += 1\n",
    "            if self.leg == 4:\n",
    "                break\n",
    "        return self.leg\n",
    "            "
   ]
  },
  {
   "cell_type": "code",
   "execution_count": 14,
   "id": "edb47dbf",
   "metadata": {},
   "outputs": [],
   "source": [
    "d = Dog([\"lion\", \"tiger\", \"jaguar\", \"cheetah\"],\n",
    "        territory = [\"savanna\", \"grassland\", \"scrubland\", \"openforest\"],\n",
    "        sound = [\"roar\", \"snarl\", \"growl\", \"gargles\"],\n",
    "        name = \"dog\",\n",
    "        leg = 0\n",
    "        \n",
    "                   )"
   ]
  },
  {
   "cell_type": "code",
   "execution_count": null,
   "id": "d53d5c79",
   "metadata": {},
   "outputs": [],
   "source": []
  }
 ],
 "metadata": {
  "kernelspec": {
   "display_name": "Python 3 (ipykernel)",
   "language": "python",
   "name": "python3"
  },
  "language_info": {
   "codemirror_mode": {
    "name": "ipython",
    "version": 3
   },
   "file_extension": ".py",
   "mimetype": "text/x-python",
   "name": "python",
   "nbconvert_exporter": "python",
   "pygments_lexer": "ipython3",
   "version": "3.9.13"
  }
 },
 "nbformat": 4,
 "nbformat_minor": 5
}
